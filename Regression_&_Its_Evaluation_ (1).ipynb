{
  "nbformat": 4,
  "nbformat_minor": 0,
  "metadata": {
    "colab": {
      "provenance": []
    },
    "kernelspec": {
      "name": "python3",
      "display_name": "Python 3"
    },
    "language_info": {
      "name": "python"
    }
  },
  "cells": [
    {
      "cell_type": "markdown",
      "source": [
        "**Assignment Code: DA-AG-010**\n",
        "\n",
        "#**Regression & Its Evaluation | Assignment**"
      ],
      "metadata": {
        "id": "3nR2Q5Ibqyn5"
      }
    },
    {
      "cell_type": "markdown",
      "source": [
        "**Question 1: What is Simple Linear Regression?**\n",
        "\n",
        "**Answer:**"
      ],
      "metadata": {
        "id": "-g5sZTNZrCAx"
      }
    },
    {
      "cell_type": "markdown",
      "metadata": {
        "id": "a6139628"
      },
      "source": [
        "Simple Linear Regression is a statistical method used to model the relationship between two continuous variables: a dependent variable (or response variable) and an independent variable (or predictor variable). It assumes a linear relationship between these two variables, meaning the relationship can be represented by a straight line. The goal of simple linear regression is to find the equation of this line that best fits the observed data, allowing for prediction of the dependent variable based on the independent variable."
      ]
    },
    {
      "cell_type": "markdown",
      "source": [
        "**Question 2: What are the key assumptions of Simple Linear Regression?**\n",
        "\n",
        "**Answer:**"
      ],
      "metadata": {
        "id": "OxS9HTJiroFN"
      }
    },
    {
      "cell_type": "markdown",
      "metadata": {
        "id": "b3764459"
      },
      "source": [
        "The key assumptions of Simple Linear Regression are:\n",
        "\n",
        "1.  **Linearity:** The relationship between the independent and dependent variables is linear.\n",
        "2.  **Independence:** The observations are independent of each other.\n",
        "3.  **Homoscedasticity:** The variance of the residuals (the difference between the observed and predicted values) is constant across all levels of the independent variable.\n",
        "4.  **Normality:** The residuals are normally distributed.\n",
        "5.  **No multicollinearity:** (While more relevant in multiple linear regression, it's worth noting that in simple linear regression, the single independent variable is not perfectly correlated with itself, which is a trivial case)."
      ]
    },
    {
      "cell_type": "markdown",
      "source": [],
      "metadata": {
        "id": "Hj2ZdVEQPcsy"
      }
    },
    {
      "cell_type": "markdown",
      "metadata": {
        "id": "7373bb36"
      },
      "source": [
        "**Question 3: What is heteroscedasticity, and why is it important to address in regression\n",
        "models?**\n",
        "\n",
        "**Answer:**\n",
        "\n",
        "Heteroscedasticity refers to the situation in regression analysis where the variance of the residuals (the differences between the observed and predicted values) is not constant across all levels of the independent variable. In other words, the spread of the residuals changes as the independent variable changes.\n",
        "\n",
        "It is important to address heteroscedasticity in regression models for several reasons:\n",
        "\n",
        "1.  **Inefficient parameter estimates:** While the parameter estimates remain unbiased, they are no longer the most efficient estimates possible. This means that the standard errors of the estimates will be incorrect, leading to inaccurate confidence intervals and hypothesis tests.\n",
        "2.  **Incorrect standard errors:** The standard errors of the regression coefficients will be underestimated, which can lead to the incorrect conclusion that a predictor variable is statistically significant when it is not.\n",
        "3.  **Invalid statistical inference:** Because of the incorrect standard errors, hypothesis tests (like t-tests and F-tests) and confidence intervals become unreliable. This can lead to drawing incorrect conclusions about the relationships between variables.\n",
        "4.  **Reduced precision of predictions:** Predictions made from a model with heteroscedasticity will have wider and less precise prediction intervals.\n",
        "\n",
        "Addressing heteroscedasticity can involve various techniques, such as transforming the dependent variable, using weighted least squares regression, or employing robust standard errors. Ignoring heteroscedasticity can lead to misleading results and flawed conclusions from the regression analysis."
      ]
    },
    {
      "cell_type": "markdown",
      "metadata": {
        "id": "0f8547a0"
      },
      "source": [
        "**Question 4: What is Multiple Linear Regression?**\n",
        "\n",
        "**Answer:**\n",
        "\n",
        "Multiple Linear Regression is a statistical method used to model the linear relationship between a continuous dependent variable (or response variable) and **two or more** independent variables (or predictor variables). It is an extension of simple linear regression.\n",
        "\n",
        "The goal of multiple linear regression is to find the equation of a hyperplane (a higher-dimensional equivalent of a line) that best fits the observed data. This equation allows for prediction of the dependent variable based on the values of multiple independent variables.\n",
        "\n",
        "The general form of a multiple linear regression equation is:\n",
        "\n",
        "$Y = \\beta_0 + \\beta_1X_1 + \\beta_2X_2 + ... + \\beta_nX_n + \\epsilon$\n",
        "\n",
        "Where:\n",
        "\n",
        "*   $Y$ is the dependent variable.\n",
        "*   $\\beta_0$ is the intercept (the value of Y when all independent variables are zero).\n",
        "*   $\\beta_1, \\beta_2, ..., \\beta_n$ are the coefficients for each independent variable ($X_1, X_2, ..., X_n$). These coefficients represent the change in Y for a one-unit increase in the corresponding independent variable, holding all other independent variables constant.\n",
        "*   $X_1, X_2, ..., X_n$ are the independent variables.\n",
        "*   $\\epsilon$ is the error term, representing the portion of Y that is not explained by the linear relationship with the independent variables.\n",
        "\n",
        "Like simple linear regression, multiple linear regression also has key assumptions that should be met for valid results. These include linearity, independence of observations, homoscedasticity, normality of residuals, and importantly, no multicollinearity (high correlation between independent variables)."
      ]
    },
    {
      "cell_type": "markdown",
      "metadata": {
        "id": "235ba978"
      },
      "source": [
        "**Question 5: What is polynomial regression, and how does it differ from linear\n",
        "regression?**\n",
        "\n",
        "**Answer:**\n",
        "\n",
        "**Polynomial Regression:**\n",
        "\n",
        "Polynomial regression is a type of regression analysis in which the relationship between the independent variable ($X$) and the dependent variable ($Y$) is modeled as an $n$-th degree polynomial. While it's still considered a form of linear regression in terms of how the coefficients are estimated (they are linear in the parameters), the relationship between $X$ and $Y$ is non-linear.\n",
        "\n",
        "The general form of a polynomial regression equation is:\n",
        "\n",
        "$Y = \\beta_0 + \\beta_1X + \\beta_2X^2 + ... + \\beta_nX^n + \\epsilon$\n",
        "\n",
        "Where:\n",
        "\n",
        "*   $Y$ is the dependent variable.\n",
        "*   $\\beta_0, \\beta_1, ..., \\beta_n$ are the coefficients.\n",
        "*   $X$ is the independent variable.\n",
        "*   $n$ is the degree of the polynomial.\n",
        "*   $\\epsilon$ is the error term.\n",
        "\n",
        "For example, a second-degree polynomial regression (quadratic) would be:\n",
        "\n",
        "$Y = \\beta_0 + \\beta_1X + \\beta_2X^2 + \\epsilon$\n",
        "\n",
        "**Difference from Linear Regression:**\n",
        "\n",
        "The key difference between polynomial regression and linear regression lies in the nature of the relationship they can model:\n",
        "\n",
        "1.  **Nature of the Relationship:**\n",
        "    *   **Linear Regression:** Models a strictly linear relationship between the independent and dependent variables. The relationship can be represented by a straight line (in simple linear regression) or a hyperplane (in multiple linear regression).\n",
        "    *   **Polynomial Regression:** Models a non-linear relationship between the independent and dependent variables by including polynomial terms (e.g., $X^2, X^3$) of the independent variable. This allows the model to capture curves and bends in the data that a simple linear model cannot.\n",
        "\n",
        "2.  **Equation Form:**\n",
        "    *   **Linear Regression:** The equation is linear in the independent variables.\n",
        "    *   **Polynomial Regression:** The equation is non-linear in the independent variable(s) due to the inclusion of polynomial terms, although it is still linear in the coefficients.\n",
        "\n",
        "3.  **Flexibility:**\n",
        "    *   **Linear Regression:** Less flexible and assumes a straight-line relationship.\n",
        "    *   **Polynomial Regression:** More flexible and can fit a wider range of data patterns, including curves. However, using a very high degree of polynomial can lead to overfitting.\n",
        "\n",
        "In essence, polynomial regression is a way to extend the capabilities of linear regression to model more complex, non-linear relationships between variables by transforming the independent variable using polynomial functions."
      ]
    },
    {
      "cell_type": "markdown",
      "source": [
        "**Question 6: Implement a Python program to fit a Simple Linear Regression model to\n",
        "the following sample data:\n",
        "● X = [1, 2, 3, 4, 5]\n",
        "● Y = [2.1, 4.3, 6.1, 7.9, 10.2]\n",
        "Plot the regression line over the data points.\n",
        "(Include your Python code and output in the code box below.)**\n",
        "\n",
        "\n",
        "**Answer:**"
      ],
      "metadata": {
        "id": "yYpDJifRRHM_"
      }
    },
    {
      "cell_type": "code",
      "metadata": {
        "colab": {
          "base_uri": "https://localhost:8080/",
          "height": 507
        },
        "id": "7c5f2087",
        "outputId": "2313fa04-c523-467a-bdfd-44a3d82b9419"
      },
      "source": [
        "import numpy as np\n",
        "import matplotlib.pyplot as plt\n",
        "from sklearn.linear_model import LinearRegression\n",
        "\n",
        "# Sample data\n",
        "X = np.array([1, 2, 3, 4, 5]).reshape(-1, 1) # Reshape X for scikit-learn\n",
        "Y = np.array([2.1, 4.3, 6.1, 7.9, 10.2])\n",
        "\n",
        "# Create a Linear Regression model\n",
        "model = LinearRegression()\n",
        "\n",
        "# Fit the model to the data\n",
        "model.fit(X, Y)\n",
        "\n",
        "# Predict Y values using the fitted model\n",
        "Y_pred = model.predict(X)\n",
        "\n",
        "# Plot the original data points and the regression line\n",
        "plt.scatter(X, Y, color='blue', label='Data Points')\n",
        "plt.plot(X, Y_pred, color='red', linewidth=2, label='Regression Line')\n",
        "plt.xlabel('X')\n",
        "plt.ylabel('Y')\n",
        "plt.title('Simple Linear Regression')\n",
        "plt.legend()\n",
        "plt.grid(True)\n",
        "plt.show()\n",
        "\n",
        "# Print the coefficients\n",
        "print(f\"Intercept: {model.intercept_}\")\n",
        "print(f\"Coefficient: {model.coef_[0]}\")"
      ],
      "execution_count": null,
      "outputs": [
        {
          "output_type": "display_data",
          "data": {
            "text/plain": [
              "<Figure size 640x480 with 1 Axes>"
            ],
            "image/png": "[encoded data removed]"
          },
          "metadata": {}
        },
        {
          "output_type": "stream",
          "name": "stdout",
          "text": [
            "Intercept: 0.17999999999999794\n",
            "Coefficient: 1.9800000000000004\n"
          ]
        }
      ]
    },
    {
      "cell_type": "markdown",
      "source": [
        "**Question 7: Fit a Multiple Linear Regression model on this sample data:\n",
        "● Area = [1200, 1500, 1800, 2000]\n",
        "● Rooms = [2, 3, 3, 4]\n",
        "● Price = [250000, 300000, 320000, 370000]\n",
        "Check for multicollinearity using VIF and report the results.\n",
        "(Include your Python code and output in the code box below.)**"
      ],
      "metadata": {
        "id": "EnW2JIZkR3w4"
      }
    },
    {
      "cell_type": "code",
      "metadata": {
        "colab": {
          "base_uri": "https://localhost:8080/",
          "height": 213
        },
        "id": "b1b410ea",
        "outputId": "3fefca6b-39b4-4ee9-c7ef-439a5e9b753a"
      },
      "source": [
        "import numpy as np\n",
        "import pandas as pd\n",
        "from sklearn.linear_model import LinearRegression\n",
        "from statsmodels.stats.outliers_influence import variance_inflation_factor\n",
        "import statsmodels.api as sm # Import statsmodels.api as sm\n",
        "\n",
        "\n",
        "# Sample data\n",
        "data = {'Area': [1200, 1500, 1800, 2000],\n",
        "        'Rooms': [2, 3, 3, 4],\n",
        "        'Price': [250000, 300000, 320000, 370000]}\n",
        "df = pd.DataFrame(data)\n",
        "\n",
        "# Define independent and dependent variables\n",
        "X = df[['Area', 'Rooms']]\n",
        "Y = df['Price']\n",
        "\n",
        "# Create a Multiple Linear Regression model\n",
        "model = LinearRegression()\n",
        "\n",
        "# Fit the model to the data\n",
        "model.fit(X, Y)\n",
        "\n",
        "# Print the coefficients\n",
        "print(f\"Intercept: {model.intercept_}\")\n",
        "print(f\"Coefficients: {model.coef_}\")\n",
        "\n",
        "# Check for multicollinearity using VIF\n",
        "# Add a constant to the independent variables for VIF calculation\n",
        "X_with_constant = sm.add_constant(X)\n",
        "\n",
        "# Calculate VIF for each independent variable\n",
        "vif_data = pd.DataFrame()\n",
        "vif_data[\"Variable\"] = X_with_constant.columns\n",
        "vif_data[\"VIF\"] = [variance_inflation_factor(X_with_constant.values, i)\n",
        "                   for i in range(X_with_constant.shape[1])]\n",
        "\n",
        "print(\"\\nVariance Inflation Factor (VIF):\")\n",
        "display(vif_data)"
      ],
      "execution_count": null,
      "outputs": [
        {
          "output_type": "stream",
          "name": "stdout",
          "text": [
            "Intercept: 103157.89473684214\n",
            "Coefficients: [   63.15789474 34736.84210526]\n",
            "\n",
            "Variance Inflation Factor (VIF):\n"
          ]
        },
        {
          "output_type": "display_data",
          "data": {
            "text/plain": [
              "  Variable        VIF\n",
              "0    const  34.210526\n",
              "1     Area   7.736842\n",
              "2    Rooms   7.736842"
            ],
            "text/html": [
              "\n",
              "  <div id=\"df-b8dd8221-c120-4b84-8223-30494f039127\" class=\"colab-df-container\">\n",
              "    <div>\n",
              "<style scoped>\n",
              "    .dataframe tbody tr th:only-of-type {\n",
              "        vertical-align: middle;\n",
              "    }\n",
              "\n",
              "    .dataframe tbody tr th {\n",
              "        vertical-align: top;\n",
              "    }\n",
              "\n",
              "    .dataframe thead th {\n",
              "        text-align: right;\n",
              "    }\n",
              "</style>\n",
              "<table border=\"1\" class=\"dataframe\">\n",
              "  <thead>\n",
              "    <tr style=\"text-align: right;\">\n",
              "      <th></th>\n",
              "      <th>Variable</th>\n",
              "      <th>VIF</th>\n",
              "    </tr>\n",
              "  </thead>\n",
              "  <tbody>\n",
              "    <tr>\n",
              "      <th>0</th>\n",
              "      <td>const</td>\n",
              "      <td>34.210526</td>\n",
              "    </tr>\n",
              "    <tr>\n",
              "      <th>1</th>\n",
              "      <td>Area</td>\n",
              "      <td>7.736842</td>\n",
              "    </tr>\n",
              "    <tr>\n",
              "      <th>2</th>\n",
              "      <td>Rooms</td>\n",
              "      <td>7.736842</td>\n",
              "    </tr>\n",
              "  </tbody>\n",
              "</table>\n",
              "</div>\n",
              "    <div class=\"colab-df-buttons\">\n",
              "\n",
              "  <div class=\"colab-df-container\">\n",
              "    <button class=\"colab-df-convert\" onclick=\"convertToInteractive('df-b8dd8221-c120-4b84-8223-30494f039127')\"\n",
              "            title=\"Convert this dataframe to an interactive table.\"\n",
              "            style=\"display:none;\">\n",
              "\n",
              "  <svg xmlns=\"http://www.w3.org/2000/svg\" height=\"24px\" viewBox=\"0 -960 960 960\">\n",
              "    <path d=\"M120-120v-720h720v720H120Zm60-500h600v-160H180v160Zm220 220h160v-160H400v160Zm0 220h160v-160H400v160ZM180-400h160v-160H180v160Zm440 0h160v-160H620v160ZM180-180h160v-160H180v160Zm440 0h160v-160H620v160Z\"/>\n",
              "  </svg>\n",
              "    </button>\n",
              "\n",
              "  <style>\n",
              "    .colab-df-container {\n",
              "      display:flex;\n",
              "      gap: 12px;\n",
              "    }\n",
              "\n",
              "    .colab-df-convert {\n",
              "      background-color: #E8F0FE;\n",
              "      border: none;\n",
              "      border-radius: 50%;\n",
              "      cursor: pointer;\n",
              "      display: none;\n",
              "      fill: #1967D2;\n",
              "      height: 32px;\n",
              "      padding: 0 0 0 0;\n",
              "      width: 32px;\n",
              "    }\n",
              "\n",
              "    .colab-df-convert:hover {\n",
              "      background-color: #E2EBFA;\n",
              "      box-shadow: 0px 1px 2px rgba(60, 64, 67, 0.3), 0px 1px 3px 1px rgba(60, 64, 67, 0.15);\n",
              "      fill: #174EA6;\n",
              "    }\n",
              "\n",
              "    .colab-df-buttons div {\n",
              "      margin-bottom: 4px;\n",
              "    }\n",
              "\n",
              "    [theme=dark] .colab-df-convert {\n",
              "      background-color: #3B4455;\n",
              "      fill: #D2E3FC;\n",
              "    }\n",
              "\n",
              "    [theme=dark] .colab-df-convert:hover {\n",
              "      background-color: #434B5C;\n",
              "      box-shadow: 0px 1px 3px 1px rgba(0, 0, 0, 0.15);\n",
              "      filter: drop-shadow(0px 1px 2px rgba(0, 0, 0, 0.3));\n",
              "      fill: #FFFFFF;\n",
              "    }\n",
              "  </style>\n",
              "\n",
              "    <script>\n",
              "      const buttonEl =\n",
              "        document.querySelector('#df-b8dd8221-c120-4b84-8223-30494f039127 button.colab-df-convert');\n",
              "      buttonEl.style.display =\n",
              "        google.colab.kernel.accessAllowed ? 'block' : 'none';\n",
              "\n",
              "      async function convertToInteractive(key) {\n",
              "        const element = document.querySelector('#df-b8dd8221-c120-4b84-8223-30494f039127');\n",
              "        const dataTable =\n",
              "          await google.colab.kernel.invokeFunction('convertToInteractive',\n",
              "                                                    [key], {});\n",
              "        if (!dataTable) return;\n",
              "\n",
              "        const docLinkHtml = 'Like what you see? Visit the ' +\n",
              "          '<a target=\"_blank\" href=https://colab.research.google.com/notebooks/data_table.ipynb>data table notebook</a>'\n",
              "          + ' to learn more about interactive tables.';\n",
              "        element.innerHTML = '';\n",
              "        dataTable['output_type'] = 'display_data';\n",
              "        await google.colab.output.renderOutput(dataTable, element);\n",
              "        const docLink = document.createElement('div');\n",
              "        docLink.innerHTML = docLinkHtml;\n",
              "        element.appendChild(docLink);\n",
              "      }\n",
              "    </script>\n",
              "  </div>\n",
              "\n",
              "\n",
              "    <div id=\"df-f85bfaf0-c171-471a-8d87-b97ca93b22af\">\n",
              "      <button class=\"colab-df-quickchart\" onclick=\"quickchart('df-f85bfaf0-c171-471a-8d87-b97ca93b22af')\"\n",
              "                title=\"Suggest charts\"\n",
              "                style=\"display:none;\">\n",
              "\n",
              "<svg xmlns=\"http://www.w3.org/2000/svg\" height=\"24px\"viewBox=\"0 0 24 24\"\n",
              "     width=\"24px\">\n",
              "    <g>\n",
              "        <path d=\"M19 3H5c-1.1 0-2 .9-2 2v14c0 1.1.9 2 2 2h14c1.1 0 2-.9 2-2V5c0-1.1-.9-2-2-2zM9 17H7v-7h2v7zm4 0h-2V7h2v10zm4 0h-2v-4h2v4z\"/>\n",
              "    </g>\n",
              "</svg>\n",
              "      </button>\n",
              "\n",
              "<style>\n",
              "  .colab-df-quickchart {\n",
              "      --bg-color: #E8F0FE;\n",
              "      --fill-color: #1967D2;\n",
              "      --hover-bg-color: #E2EBFA;\n",
              "      --hover-fill-color: #174EA6;\n",
              "      --disabled-fill-color: #AAA;\n",
              "      --disabled-bg-color: #DDD;\n",
              "  }\n",
              "\n",
              "  [theme=dark] .colab-df-quickchart {\n",
              "      --bg-color: #3B4455;\n",
              "      --fill-color: #D2E3FC;\n",
              "      --hover-bg-color: #434B5C;\n",
              "      --hover-fill-color: #FFFFFF;\n",
              "      --disabled-bg-color: #3B4455;\n",
              "      --disabled-fill-color: #666;\n",
              "  }\n",
              "\n",
              "  .colab-df-quickchart {\n",
              "    background-color: var(--bg-color);\n",
              "    border: none;\n",
              "    border-radius: 50%;\n",
              "    cursor: pointer;\n",
              "    display: none;\n",
              "    fill: var(--fill-color);\n",
              "    height: 32px;\n",
              "    padding: 0;\n",
              "    width: 32px;\n",
              "  }\n",
              "\n",
              "  .colab-df-quickchart:hover {\n",
              "    background-color: var(--hover-bg-color);\n",
              "    box-shadow: 0 1px 2px rgba(60, 64, 67, 0.3), 0 1px 3px 1px rgba(60, 64, 67, 0.15);\n",
              "    fill: var(--button-hover-fill-color);\n",
              "  }\n",
              "\n",
              "  .colab-df-quickchart-complete:disabled,\n",
              "  .colab-df-quickchart-complete:disabled:hover {\n",
              "    background-color: var(--disabled-bg-color);\n",
              "    fill: var(--disabled-fill-color);\n",
              "    box-shadow: none;\n",
              "  }\n",
              "\n",
              "  .colab-df-spinner {\n",
              "    border: 2px solid var(--fill-color);\n",
              "    border-color: transparent;\n",
              "    border-bottom-color: var(--fill-color);\n",
              "    animation:\n",
              "      spin 1s steps(1) infinite;\n",
              "  }\n",
              "\n",
              "  @keyframes spin {\n",
              "    0% {\n",
              "      border-color: transparent;\n",
              "      border-bottom-color: var(--fill-color);\n",
              "      border-left-color: var(--fill-color);\n",
              "    }\n",
              "    20% {\n",
              "      border-color: transparent;\n",
              "      border-left-color: var(--fill-color);\n",
              "      border-top-color: var(--fill-color);\n",
              "    }\n",
              "    30% {\n",
              "      border-color: transparent;\n",
              "      border-left-color: var(--fill-color);\n",
              "      border-top-color: var(--fill-color);\n",
              "      border-right-color: var(--fill-color);\n",
              "    }\n",
              "    40% {\n",
              "      border-color: transparent;\n",
              "      border-right-color: var(--fill-color);\n",
              "      border-top-color: var(--fill-color);\n",
              "    }\n",
              "    60% {\n",
              "      border-color: transparent;\n",
              "      border-right-color: var(--fill-color);\n",
              "    }\n",
              "    80% {\n",
              "      border-color: transparent;\n",
              "      border-right-color: var(--fill-color);\n",
              "      border-bottom-color: var(--fill-color);\n",
              "    }\n",
              "    90% {\n",
              "      border-color: transparent;\n",
              "      border-bottom-color: var(--fill-color);\n",
              "    }\n",
              "  }\n",
              "</style>\n",
              "\n",
              "      <script>\n",
              "        async function quickchart(key) {\n",
              "          const quickchartButtonEl =\n",
              "            document.querySelector('#' + key + ' button');\n",
              "          quickchartButtonEl.disabled = true;  // To prevent multiple clicks.\n",
              "          quickchartButtonEl.classList.add('colab-df-spinner');\n",
              "          try {\n",
              "            const charts = await google.colab.kernel.invokeFunction(\n",
              "                'suggestCharts', [key], {});\n",
              "          } catch (error) {\n",
              "            console.error('Error during call to suggestCharts:', error);\n",
              "          }\n",
              "          quickchartButtonEl.classList.remove('colab-df-spinner');\n",
              "          quickchartButtonEl.classList.add('colab-df-quickchart-complete');\n",
              "        }\n",
              "        (() => {\n",
              "          let quickchartButtonEl =\n",
              "            document.querySelector('#df-f85bfaf0-c171-471a-8d87-b97ca93b22af button');\n",
              "          quickchartButtonEl.style.display =\n",
              "            google.colab.kernel.accessAllowed ? 'block' : 'none';\n",
              "        })();\n",
              "      </script>\n",
              "    </div>\n",
              "\n",
              "  <div id=\"id_3709ed13-d975-4912-acf5-d43b05808758\">\n",
              "    <style>\n",
              "      .colab-df-generate {\n",
              "        background-color: #E8F0FE;\n",
              "        border: none;\n",
              "        border-radius: 50%;\n",
              "        cursor: pointer;\n",
              "        display: none;\n",
              "        fill: #1967D2;\n",
              "        height: 32px;\n",
              "        padding: 0 0 0 0;\n",
              "        width: 32px;\n",
              "      }\n",
              "\n",
              "      .colab-df-generate:hover {\n",
              "        background-color: #E2EBFA;\n",
              "        box-shadow: 0px 1px 2px rgba(60, 64, 67, 0.3), 0px 1px 3px 1px rgba(60, 64, 67, 0.15);\n",
              "        fill: #174EA6;\n",
              "      }\n",
              "\n",
              "      [theme=dark] .colab-df-generate {\n",
              "        background-color: #3B4455;\n",
              "        fill: #D2E3FC;\n",
              "      }\n",
              "\n",
              "      [theme=dark] .colab-df-generate:hover {\n",
              "        background-color: #434B5C;\n",
              "        box-shadow: 0px 1px 3px 1px rgba(0, 0, 0, 0.15);\n",
              "        filter: drop-shadow(0px 1px 2px rgba(0, 0, 0, 0.3));\n",
              "        fill: #FFFFFF;\n",
              "      }\n",
              "    </style>\n",
              "    <button class=\"colab-df-generate\" onclick=\"generateWithVariable('vif_data')\"\n",
              "            title=\"Generate code using this dataframe.\"\n",
              "            style=\"display:none;\">\n",
              "\n",
              "  <svg xmlns=\"http://www.w3.org/2000/svg\" height=\"24px\"viewBox=\"0 0 24 24\"\n",
              "       width=\"24px\">\n",
              "    <path d=\"M7,19H8.4L18.45,9,17,7.55,7,17.6ZM5,21V16.75L18.45,3.32a2,2,0,0,1,2.83,0l1.4,1.43a1.91,1.91,0,0,1,.58,1.4,1.91,1.91,0,0,1-.58,1.4L9.25,21ZM18.45,9,17,7.55Zm-12,3A5.31,5.31,0,0,0,4.9,8.1,5.31,5.31,0,0,0,1,6.5,5.31,5.31,0,0,0,4.9,4.9,5.31,5.31,0,0,0,6.5,1,5.31,5.31,0,0,0,8.1,4.9,5.31,5.31,0,0,0,12,6.5,5.46,5.46,0,0,0,6.5,12Z\"/>\n",
              "  </svg>\n",
              "    </button>\n",
              "    <script>\n",
              "      (() => {\n",
              "      const buttonEl =\n",
              "        document.querySelector('#id_3709ed13-d975-4912-acf5-d43b05808758 button.colab-df-generate');\n",
              "      buttonEl.style.display =\n",
              "        google.colab.kernel.accessAllowed ? 'block' : 'none';\n",
              "\n",
              "      buttonEl.onclick = () => {\n",
              "        google.colab.notebook.generateWithVariable('vif_data');\n",
              "      }\n",
              "      })();\n",
              "    </script>\n",
              "  </div>\n",
              "\n",
              "    </div>\n",
              "  </div>\n"
            ],
            "application/vnd.google.colaboratory.intrinsic+json": {
              "type": "dataframe",
              "variable_name": "vif_data",
              "summary": "{\n  \"name\": \"vif_data\",\n  \"rows\": 3,\n  \"fields\": [\n    {\n      \"column\": \"Variable\",\n      \"properties\": {\n        \"dtype\": \"string\",\n        \"num_unique_values\": 3,\n        \"samples\": [\n          \"const\",\n          \"Area\",\n          \"Rooms\"\n        ],\n        \"semantic_type\": \"\",\n        \"description\": \"\"\n      }\n    },\n    {\n      \"column\": \"VIF\",\n      \"properties\": {\n        \"dtype\": \"number\",\n        \"std\": 15.284588705388556,\n        \"min\": 7.7368421052631495,\n        \"max\": 34.210526315789544,\n        \"num_unique_values\": 3,\n        \"samples\": [\n          34.210526315789544,\n          7.736842105263156,\n          7.7368421052631495\n        ],\n        \"semantic_type\": \"\",\n        \"description\": \"\"\n      }\n    }\n  ]\n}"
            }
          },
          "metadata": {}
        }
      ]
    },
    {
      "cell_type": "markdown",
      "source": [
        "**Question 8: Implement polynomial regression on the following data:\n",
        "● X = [1, 2, 3, 4, 5]\n",
        "Y = [2.2, 4.8, 7.5, 11.2, 14.7]\n",
        "Fit a 2nd-degree polynomial and plot the resulting curve.\n",
        "(Include your Python code and output in the code box below.)**"
      ],
      "metadata": {
        "id": "IXR0uDSBSMyr"
      }
    },
    {
      "cell_type": "code",
      "metadata": {
        "colab": {
          "base_uri": "https://localhost:8080/",
          "height": 507
        },
        "id": "a98dfa7b",
        "outputId": "1f1bf455-71bb-4340-9b48-789678e7bda6"
      },
      "source": [
        "import numpy as np\n",
        "import matplotlib.pyplot as plt\n",
        "from sklearn.preprocessing import PolynomialFeatures\n",
        "from sklearn.linear_model import LinearRegression\n",
        "\n",
        "# Sample data\n",
        "X = np.array([1, 2, 3, 4, 5]).reshape(-1, 1)\n",
        "Y = np.array([2.2, 4.8, 7.5, 11.2, 14.7])\n",
        "\n",
        "# Create polynomial features (degree 2)\n",
        "poly_features = PolynomialFeatures(degree=2)\n",
        "X_poly = poly_features.fit_transform(X)\n",
        "\n",
        "# Create a Linear Regression model\n",
        "model = LinearRegression()\n",
        "\n",
        "# Fit the model to the polynomial features\n",
        "model.fit(X_poly, Y)\n",
        "\n",
        "# Predict Y values using the fitted model\n",
        "Y_pred = model.predict(X_poly)\n",
        "\n",
        "# Plot the original data points and the polynomial regression curve\n",
        "plt.scatter(X, Y, color='blue', label='Data Points')\n",
        "plt.plot(X, Y_pred, color='red', linewidth=2, label='Polynomial Regression Curve (Degree 2)')\n",
        "plt.xlabel('X')\n",
        "plt.ylabel('Y')\n",
        "plt.title('Polynomial Regression')\n",
        "plt.legend()\n",
        "plt.grid(True)\n",
        "plt.show()\n",
        "\n",
        "# Print the coefficients\n",
        "print(f\"Intercept: {model.intercept_}\")\n",
        "print(f\"Coefficients: {model.coef_}\")"
      ],
      "execution_count": null,
      "outputs": [
        {
          "output_type": "display_data",
          "data": {
            "text/plain": [
              "<Figure size 640x480 with 1 Axes>"
            ],
            "image/png": "[encoded data removed]"
          },
          "metadata": {}
        },
        {
          "output_type": "stream",
          "name": "stdout",
          "text": [
            "Intercept: 0.06000000000000938\n",
            "Coefficients: [0.   1.94 0.2 ]\n"
          ]
        }
      ]
    },
    {
      "cell_type": "markdown",
      "source": [
        "**Question 9: Create a residuals plot for a regression model trained on this data:\n",
        "● X = [10, 20, 30, 40, 50]\n",
        "● Y = [15, 35, 40, 50, 65]\n",
        "Assess heteroscedasticity by examining the spread of residuals.\n",
        "(Include your Python code and output in the code box below.)**"
      ],
      "metadata": {
        "id": "NgKNXoNbS5F1"
      }
    },
    {
      "cell_type": "code",
      "metadata": {
        "colab": {
          "base_uri": "https://localhost:8080/",
          "height": 527
        },
        "id": "31f398ba",
        "outputId": "84ec118b-efc7-4bd0-9a1f-4f50c0e00abe"
      },
      "source": [
        "import numpy as np\n",
        "import matplotlib.pyplot as plt\n",
        "from sklearn.linear_model import LinearRegression\n",
        "\n",
        "# Sample data\n",
        "X = np.array([10, 20, 30, 40, 50]).reshape(-1, 1)\n",
        "Y = np.array([15, 35, 40, 50, 65])\n",
        "\n",
        "# Create a Linear Regression model\n",
        "model = LinearRegression()\n",
        "\n",
        "# Fit the model to the data\n",
        "model.fit(X, Y)\n",
        "\n",
        "# Predict Y values using the fitted model\n",
        "Y_pred = model.predict(X)\n",
        "\n",
        "# Calculate residuals\n",
        "residuals = Y - Y_pred\n",
        "\n",
        "# Create a residuals plot\n",
        "plt.scatter(X, residuals, color='blue')\n",
        "plt.axhline(y=0, color='red', linestyle='--', linewidth=2) # Add a horizontal line at 0\n",
        "plt.xlabel('X')\n",
        "plt.ylabel('Residuals')\n",
        "plt.title('Residuals Plot')\n",
        "plt.grid(True)\n",
        "plt.show()\n",
        "\n",
        "# Assess heteroscedasticity\n",
        "print(\"Assessing Heteroscedasticity:\")\n",
        "print(\"Examine the residuals plot. If the spread of the residuals is roughly constant across all values of X, it suggests homoscedasticity. If the spread of the residuals changes as X changes (e.g., widens or narrows), it suggests heteroscedasticity.\")"
      ],
      "execution_count": null,
      "outputs": [
        {
          "output_type": "display_data",
          "data": {
            "text/plain": [
              "<Figure size 640x480 with 1 Axes>"
            ],
            "image/png": "[encoded data removed]"
          },
          "metadata": {}
        },
        {
          "output_type": "stream",
          "name": "stdout",
          "text": [
            "Assessing Heteroscedasticity:\n",
            "Examine the residuals plot. If the spread of the residuals is roughly constant across all values of X, it suggests homoscedasticity. If the spread of the residuals changes as X changes (e.g., widens or narrows), it suggests heteroscedasticity.\n"
          ]
        }
      ]
    },
    {
      "cell_type": "markdown",
      "metadata": {
        "id": "9429731a"
      },
      "source": [
        "**Question 10: Imagine you are a data scientist working for a real estate company. You\n",
        "need to predict house prices using features like area, number of rooms, and location.\n",
        "However, you detect heteroscedasticity and multicollinearity in your regression\n",
        "model. Explain the steps you would take to address these issues and ensure a robust\n",
        "model.**\n",
        "\n",
        "**Answer:**\n",
        "\n",
        "As a data scientist facing heteroscedasticity and multicollinearity in a real estate price prediction model, I would take the following steps to address these issues and ensure a robust model:\n",
        "\n",
        "**Addressing Heteroscedasticity:**\n",
        "\n",
        "Heteroscedasticity violates the assumption that the variance of the residuals is constant. This can lead to inefficient parameter estimates and incorrect standard errors, making statistical inference unreliable. To address this:\n",
        "\n",
        "1.  **Visualize Residuals:** I would first confirm the presence and nature of heteroscedasticity by creating a residuals plot (as done in Question 9) or a scatter plot of residuals vs. fitted values. Patterns like a fanning-out or fanning-in of residuals would indicate heteroscedasticity.\n",
        "2.  **Transform the Dependent Variable:** A common approach is to transform the dependent variable (house price). Common transformations include:\n",
        "    *   **Log Transformation:** Taking the logarithm of house prices can often stabilize the variance, especially if the variance increases with the mean.\n",
        "    *   **Square Root Transformation:** Another option, particularly if the data follows a Poisson distribution or similar.\n",
        "    *   **Box-Cox Transformation:** A more general transformation that can find the optimal power transformation to normalize and stabilize variance.\n",
        "3.  **Weighted Least Squares (WLS):** If the source of heteroscedasticity is known or can be estimated, WLS can be used. WLS assigns weights to observations based on their variance, giving less weight to observations with higher variance.\n",
        "4.  **Robust Standard Errors:** Even if heteroscedasticity is present, the parameter estimates remain unbiased. Using robust standard errors (also known as Huber-White standard errors) corrects the standard errors for heteroscedasticity, allowing for valid statistical inference without transforming the data or using WLS. This is often a simpler solution if the primary concern is valid inference.\n",
        "5.  **Model Specification:** Sometimes, heteroscedasticity can be caused by an incorrectly specified model. I would review the model to ensure all relevant predictors are included and that the functional form (e.g., linear vs. non-linear) is appropriate.\n",
        "\n",
        "**Addressing Multicollinearity:**\n",
        "\n",
        "Multicollinearity occurs when independent variables are highly correlated with each other. This doesn't violate the assumptions of OLS in terms of unbiasedness of coefficients, but it can make the coefficient estimates unstable, difficult to interpret, and can inflate their standard errors, making it hard to determine the individual impact of correlated predictors. To address this:\n",
        "\n",
        "1.  **Identify Multicollinearity:** I would use Variance Inflation Factor (VIF) as calculated in Question 7. High VIF values (often a threshold like 5 or 10 is used) indicate significant multicollinearity. I would also examine the correlation matrix of the independent variables.\n",
        "2.  **Remove Highly Correlated Predictors:** If two or more predictors are highly correlated, I would consider removing one of them. The choice of which variable to remove might depend on domain knowledge, variable importance, or which variable is more theoretically relevant.\n",
        "3.  **Combine Correlated Predictors:** Instead of removing variables, I could create a new composite variable that combines the correlated predictors. For example, if 'Area' and 'Number of Rooms' are highly correlated, I might create a new feature like 'Area per Room'.\n",
        "4.  **Dimensionality Reduction Techniques:** Techniques like Principal Component Analysis (PCA) can be used to create a new set of uncorrelated variables (principal components) from the original correlated variables. These principal components can then be used in the regression model.\n",
        "5.  **Regularization Techniques:** Regression techniques like Ridge Regression and Lasso Regression include regularization terms that penalize large coefficients. This can help to shrink the coefficients of correlated variables and reduce the impact of multicollinearity on the model's stability.\n",
        "\n",
        "**Ensuring a Robust Model:**\n",
        "\n",
        "After addressing heteroscedasticity and multicollinearity, I would take these steps to ensure the model is robust:\n",
        "\n",
        "1.  **Re-evaluate Assumptions:** After making changes, I would re-check the assumptions of the regression model, including linearity, independence, homoscedasticity (if addressed), and normality of residuals.\n",
        "2.  **Cross-Validation:** I would use cross-validation techniques (e.g., k-fold cross-validation) to assess the model's performance on unseen data and ensure it generalizes well.\n",
        "3.  **Model Evaluation Metrics:** I would evaluate the model using appropriate metrics such as R-squared, adjusted R-squared, Mean Absolute Error (MAE), Mean Squared Error (MSE), and Root Mean Squared Error (RMSE).\n",
        "4.  **Outlier Detection and Handling:** Outliers can disproportionately influence regression results. I would identify and consider how to handle outliers (e.g., removal, transformation, using robust regression methods).\n",
        "5.  **Domain Expertise:** Throughout the process, I would collaborate with real estate experts to ensure that the chosen variables, transformations, and model interpretations are sensible and align with real-world knowledge.\n",
        "\n",
        "By systematically addressing heteroscedasticity and multicollinearity and following these steps, I can build a more reliable and robust regression model for predicting house prices."
      ]
    }
  ]
}